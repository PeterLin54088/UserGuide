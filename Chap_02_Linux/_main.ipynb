{
 "cells": [
  {
   "cell_type": "markdown",
   "id": "1241f214-f378-4189-921c-bcb6c9221198",
   "metadata": {},
   "source": [
    "# Linux Introduction"
   ]
  },
  {
   "cell_type": "markdown",
   "id": "5d33d029-7520-41c2-91d2-eb3aac636c48",
   "metadata": {},
   "source": [
    "Linux is an operating system deployed on our Lorenz server, like other OS, you can have your personal setting, writing codes, training AI, do many things as you want. \n",
    "\n",
    "However, unlike Windows or MacOS, the graphical user interface is not a part of Linux, that means all things are done by command!\n",
    "\n",
    "For example, if you want to delete a file in Windows, just select that file, right click and press delete button, but if you want to do this in Linux, you have to ***type in your command*** like <code>\"rm /path/to/file\"</code>\n",
    "\n",
    "In the below section, I'll briefly explain what your should know as a novice to Linux"
   ]
  },
  {
   "cell_type": "markdown",
   "id": "8a1676c2-13d9-48de-9376-75bfef853d56",
   "metadata": {},
   "source": [
    "## Linux Basic Command\n",
    "Command can be executed in many ways, but for now I'll introduce only one way - terminal, the interface you see when you log in Lorenz server\n",
    "\n",
    "What you have to do is, type in commands you want and press Enter!"
   ]
  },
  {
   "cell_type": "markdown",
   "id": "3577bb95-16d6-41e1-937f-db89fb84914e",
   "metadata": {},
   "source": [
    "### cd & pwd"
   ]
  },
  {
   "cell_type": "markdown",
   "id": "9532a824-d96f-4599-a6ae-b7d2533dc88e",
   "metadata": {},
   "source": [
    "pwd is shorthand for \"print work directory\"\n",
    "```\n",
    "pwd\n",
    "```"
   ]
  },
  {
   "cell_type": "markdown",
   "id": "f632eb52-d856-4651-a1ce-e98208f2e9c9",
   "metadata": {},
   "source": [
    "cd is shorthand for \"change directory\", by default, it will by default move to your home directory\n",
    "```\n",
    "cd\n",
    "```\n",
    "But you can also assign which path to change to\n",
    "```\n",
    "cd /path/to/folder\n",
    "```"
   ]
  },
  {
   "cell_type": "markdown",
   "id": "4f759cdc-d79e-4851-a7f1-5fdca87bd869",
   "metadata": {
    "execution": {
     "iopub.execute_input": "2024-06-17T08:16:31.702880Z",
     "iopub.status.busy": "2024-06-17T08:16:31.702462Z",
     "iopub.status.idle": "2024-06-17T08:16:31.704901Z",
     "shell.execute_reply": "2024-06-17T08:16:31.704664Z",
     "shell.execute_reply.started": "2024-06-17T08:16:31.702864Z"
    }
   },
   "source": [
    "### ls"
   ]
  },
  {
   "cell_type": "markdown",
   "id": "648aaef1-de7a-4c07-9eb2-48fedc666c84",
   "metadata": {},
   "source": [
    "ls is shorthand for \" list directory contents\"\n",
    "```\n",
    "ls\n",
    "```\n",
    "if giving some arguments, for example -a, can list hidden files\n",
    "```\n",
    "ls -a\n",
    "```"
   ]
  },
  {
   "cell_type": "markdown",
   "id": "960e2c27-f380-4baa-abf9-bc4d701a1828",
   "metadata": {},
   "source": [
    "### top"
   ]
  },
  {
   "cell_type": "markdown",
   "id": "1f8e59e9-d6d5-43fd-9e34-31ba4a46adb4",
   "metadata": {},
   "source": [
    "top can monitor all user activities with interactive interface\n",
    "```\n",
    "top\n",
    "```\n",
    "If only specific user is concerned,\n",
    "```\n",
    "top -u $username\n",
    "```"
   ]
  },
  {
   "cell_type": "markdown",
   "id": "c7383a0d-d0fa-4713-b394-1ff341de67e4",
   "metadata": {},
   "source": [
    "### nano & vim"
   ]
  },
  {
   "cell_type": "markdown",
   "id": "20fb5fe1-f66f-4730-9f8a-2881a81d4212",
   "metadata": {},
   "source": [
    "nano and vim are both editor, nano is more simple, and vim provides many advanced functionality, which to use depends on you\n",
    "```\n",
    "nano filenam\n",
    "```\n",
    "```\n",
    "vim filename\n",
    "```"
   ]
  },
  {
   "cell_type": "markdown",
   "id": "2127fc52-4d51-4aaf-8755-57d21f5bc666",
   "metadata": {},
   "source": [
    "### mkdir"
   ]
  },
  {
   "cell_type": "markdown",
   "id": "befd76ed-c318-4057-999a-e505ad4ddcb6",
   "metadata": {},
   "source": [
    "mkdir is shorthand for \"make directory\"\n",
    "```\n",
    "mkdir /path/to/folder\n",
    "```"
   ]
  },
  {
   "cell_type": "markdown",
   "id": "afe3e94e-c0ad-42cc-a011-35c088b10ac1",
   "metadata": {},
   "source": [
    "### mv"
   ]
  },
  {
   "cell_type": "markdown",
   "id": "87d5c7dd-9689-40d2-ad17-4cd4f83d0939",
   "metadata": {},
   "source": [
    "mv is shorthand for \"move file\"\n",
    "```\n",
    "mv /old/path/to/file /new/path/to/file\n",
    "```"
   ]
  },
  {
   "cell_type": "markdown",
   "id": "bfeae602-9253-4507-9e80-191963ef45ea",
   "metadata": {},
   "source": [
    "### cp"
   ]
  },
  {
   "cell_type": "markdown",
   "id": "26c782c3-2d5d-4a0a-98fa-125e9d685dbc",
   "metadata": {},
   "source": [
    "cp is shorthand for \"copy file\"\n",
    "```\n",
    "cp /path/to/file_original /path/to/file_copy\n",
    "```"
   ]
  },
  {
   "cell_type": "markdown",
   "id": "5d4fdbc7-4551-4b10-bd99-bdd76febc41a",
   "metadata": {},
   "source": [
    "### rm\n"
   ]
  },
  {
   "cell_type": "markdown",
   "id": "58f5782b-0808-438b-9b09-91a262fadb42",
   "metadata": {},
   "source": [
    "rm is shorthand for \"remove file\"\n",
    "```\n",
    "rm /path/to/file\n",
    "```\n",
    "if you want to remove folder and all files within it\n",
    "```\n",
    "rm -r /path/to/folder\n",
    "```"
   ]
  },
  {
   "cell_type": "markdown",
   "id": "1c257de0-575e-4c76-8b30-b351b4ef4863",
   "metadata": {},
   "source": [
    "### man & help"
   ]
  },
  {
   "cell_type": "markdown",
   "id": "ffa9218e-c204-4974-a320-c84ceee48526",
   "metadata": {},
   "source": [
    "man and help are both manuals for command, if you want to know a command thoroughly\n",
    "```\n",
    "man some_command\n",
    "```\n",
    "```\n",
    "help some_command\n",
    "```"
   ]
  },
  {
   "cell_type": "markdown",
   "id": "3ba8fb6e-4510-4558-96ba-4f7f19e91218",
   "metadata": {},
   "source": [
    "## Linux Basic Command (Optional)"
   ]
  },
  {
   "cell_type": "markdown",
   "id": "f80060cf-a231-4bcf-8968-5bdbe0610e3e",
   "metadata": {},
   "source": [
    "### screen \n",
    "***TODO tmux replace***"
   ]
  },
  {
   "cell_type": "markdown",
   "id": "ec789f26-0335-4fce-a929-75aa760b4fe8",
   "metadata": {},
   "source": [
    "### kill"
   ]
  },
  {
   "cell_type": "markdown",
   "id": "511e34d1-bf14-4005-806f-eda5cf076b55",
   "metadata": {},
   "source": [
    "kill can terminate any process, with given PID\n",
    "```\n",
    "kill <PID>\n",
    "```\n",
    "\n",
    "```{warning}\n",
    "Sometimes, some process (especially python) may not terminate successfully, and become zombie process that takes up a lot of memory.\n",
    "Please make sure all your process terminated as expected, you can check this by top or lsof\n",
    "```"
   ]
  },
  {
   "cell_type": "markdown",
   "id": "45b8c9e7-494a-47be-b7d3-ceeb4b1f857d",
   "metadata": {},
   "source": [
    "### bash"
   ]
  },
  {
   "cell_type": "markdown",
   "id": "008fa81a-de78-4c73-adaa-ed90c4118247",
   "metadata": {},
   "source": [
    "For python, we can execute a series of command like this\n",
    "```\n",
    "python Hello_World.py\n",
    "```\n",
    "Just like above, we can execute a series of commands ***in linux***\n",
    "```\n",
    "bash Hello_World.sh\n",
    "```"
   ]
  },
  {
   "cell_type": "markdown",
   "id": "939ca5a2-dd23-407a-8c43-8b32598243f6",
   "metadata": {},
   "source": [
    "## Linux NOT Basic Command\n",
    "I'll not go into these command, just let you know\n",
    "- git\n",
    "- cdo\n",
    "- ncdump\n",
    "- and else"
   ]
  },
  {
   "cell_type": "markdown",
   "id": "b0688a15-9c22-49d6-b6a2-e73c9439a900",
   "metadata": {},
   "source": [
    "## Linux User Setting "
   ]
  },
  {
   "cell_type": "markdown",
   "id": "212b6901-115e-45f7-9a29-1c2daaf66a20",
   "metadata": {},
   "source": [
    "You can type in below code to see what's in your current directory, the exact meaning of this command will discuss later on.\n",
    "```\n",
    "ls -a\n",
    "```\n",
    "You'll see files like \n",
    "- .bashrc\n",
    "- .bash_profile\n",
    "- .zshrc\n",
    "![barhrc_1](bashrc_1.png)\n",
    "\n",
    "These are your **user setting**, but in an unfriendly way.\n",
    "\n",
    "Now, let's have a look on .bashrc! Type in below code\n",
    "```\n",
    "nano .bashrc\n",
    "```\n",
    "You should be able to see things like this (no need to be exactly the same, but should be similar)\n",
    "![barhrc_2](bashrc_2.png)\n",
    "It is OK if you don't know what these command exactly means, just have to know that what this code does is copy-pasting other peoples' user setting."
   ]
  },
  {
   "cell_type": "code",
   "execution_count": null,
   "id": "6d985d81-e66b-4f07-bf68-c3f624b579de",
   "metadata": {},
   "outputs": [],
   "source": []
  }
 ],
 "metadata": {
  "kernelspec": {
   "display_name": "__MAIN__",
   "language": "python",
   "name": "__main__"
  },
  "language_info": {
   "codemirror_mode": {
    "name": "ipython",
    "version": 3
   },
   "file_extension": ".py",
   "mimetype": "text/x-python",
   "name": "python",
   "nbconvert_exporter": "python",
   "pygments_lexer": "ipython3",
   "version": "3.12.3"
  }
 },
 "nbformat": 4,
 "nbformat_minor": 5
}

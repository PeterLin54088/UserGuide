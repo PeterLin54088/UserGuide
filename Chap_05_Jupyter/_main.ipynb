{
 "cells": [
  {
   "cell_type": "markdown",
   "id": "55a997fb-022a-4e2b-9950-677f08329e16",
   "metadata": {},
   "source": [
    "# Jupyter Lab\n",
    "When you start to write some python codes, I believe you do have this question - \"How can I use IDEs like Anaconda or VSCode in linux?\". Well, you still can write codes using these IDEs, but I won't go into this, instead, I will introduce a new thing - Jupyter Lab\n",
    "\n",
    "Jupyter Lab can do many things just like other IDEs, but need some prerequisite"
   ]
  },
  {
   "cell_type": "markdown",
   "id": "e613255c-2860-42c3-bcce-922c1d9479ab",
   "metadata": {},
   "source": [
    "## Jupyter Lab"
   ]
  },
  {
   "cell_type": "markdown",
   "id": "4d8625b5-7260-464b-a323-5c47314853f1",
   "metadata": {},
   "source": [
    "If you have not install jupyter lab and related extension in your conda environment, \n",
    "```\n",
    "conda install -c conda-forge jupyter jupyterlab nodejs ipykernel\n",
    "```"
   ]
  }
 ],
 "metadata": {
  "kernelspec": {
   "display_name": "__MAIN__",
   "language": "python",
   "name": "__main__"
  },
  "language_info": {
   "codemirror_mode": {
    "name": "ipython",
    "version": 3
   },
   "file_extension": ".py",
   "mimetype": "text/x-python",
   "name": "python",
   "nbconvert_exporter": "python",
   "pygments_lexer": "ipython3",
   "version": "3.12.3"
  }
 },
 "nbformat": 4,
 "nbformat_minor": 5
}

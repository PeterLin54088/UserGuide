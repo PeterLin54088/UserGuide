{
 "cells": [
  {
   "cell_type": "markdown",
   "id": "55a997fb-022a-4e2b-9950-677f08329e16",
   "metadata": {},
   "source": [
    "# SSH"
   ]
  },
  {
   "cell_type": "markdown",
   "id": "07861238-7b46-49f4-bf05-70b052eabc43",
   "metadata": {},
   "source": [
    "If you don't need below features or just don't care, you can just skip this section.\n",
    "- login without fill in username and password\n",
    "- push to github/gitlab without tokens\n",
    "\n",
    "SSH is shorthand for \"Secure SHell Protocol\", it is designed to create a ***safe connection*** with two identities (most of the time, a local machine and a remote server). That's why everytime login to lorenz server, you have to provide password"
   ]
  },
  {
   "cell_type": "markdown",
   "id": "5786a1e2-e728-417b-ab6a-08466e1720b8",
   "metadata": {},
   "source": [
    "## Lock-Key generation"
   ]
  },
  {
   "cell_type": "markdown",
   "id": "6bbf7da9-759e-4bbb-bf04-8d2b13f56038",
   "metadata": {},
   "source": [
    "To build a safe connection with ssh in such way, we need to have a pair of lock and key. Luckily, the generation algorithm is built-in for many OS and software like Windows, MacOS and Linux. Here I'll use Windows CMD.exe as examples\n",
    "\n",
    "\n",
    "In your computer cmd.exe\n",
    "```\n",
    "ssh-keygen -t ed25519 -C \"your_email@example.com\"\n",
    "```\n",
    "Just press enter for all options\n",
    "![ssh_1.png](ssh_1.png)\n",
    "Now, go to your folder (C:\\Users\\your_user_name\\\\.ssh), you should see two files, \"id_ed25519.pub\" and \"id_ed25519\"\n",
    "![ssh_2.png](ssh_2.png)\n",
    "The id_ed25519 with .pub extension is your ***public key***, or your lock \\\n",
    "The id_ed25519 without .pub extension is your ***private key***, or your key/password\n",
    "\n",
    "Now we have lock and key, it's time to construct a safe SSH to lorenz server without type in annoying password!"
   ]
  },
  {
   "cell_type": "markdown",
   "id": "883ca613-cd77-461d-84f6-306d8adc1cb1",
   "metadata": {},
   "source": [
    "## Sent Lock to remote server"
   ]
  },
  {
   "cell_type": "markdown",
   "id": "d2153aed-e6ab-42da-ac76-2bd5c8527aa9",
   "metadata": {},
   "source": [
    "Give your public key to lorenz server, next time when you login, just show your private key and no need for type-in!\n",
    "\n",
    "in your computer\n",
    "```\n",
    "scp .ssh/id_ed25519.pub username@140.112.67.89:\n",
    "```\n",
    "yes all pop-up notification and continue type in password, and that should upload your public key to lorenz server\n",
    "\n",
    "Now switch to lorenz remote server\n",
    "```\n",
    "mkdir ~/.ssh \n",
    "```\n",
    "```\n",
    "chmod 700 ~/.ssh\n",
    "```\n",
    "```\n",
    "cat id_ed25519.pub >> authorized_keys\n",
    "```"
   ]
  },
  {
   "cell_type": "markdown",
   "id": "435ea6d2-f93d-4898-a406-f00cef7b247f",
   "metadata": {
    "execution": {
     "iopub.execute_input": "2024-06-19T09:16:21.330023Z",
     "iopub.status.busy": "2024-06-19T09:16:21.329474Z",
     "iopub.status.idle": "2024-06-19T09:16:21.331885Z",
     "shell.execute_reply": "2024-06-19T09:16:21.331654Z",
     "shell.execute_reply.started": "2024-06-19T09:16:21.330006Z"
    }
   },
   "source": [
    "## PuTTY additional"
   ]
  },
  {
   "cell_type": "code",
   "execution_count": 1,
   "id": "6b19ad83-7b33-4da4-99bd-a494fce4b8f7",
   "metadata": {},
   "outputs": [],
   "source": [
    "# username needed\n",
    "# puttygen usage needed\n",
    "#"
   ]
  }
 ],
 "metadata": {
  "kernelspec": {
   "display_name": "__MAIN__",
   "language": "python",
   "name": "python3"
  },
  "language_info": {
   "codemirror_mode": {
    "name": "ipython",
    "version": 3
   },
   "file_extension": ".py",
   "mimetype": "text/x-python",
   "name": "python",
   "nbconvert_exporter": "python",
   "pygments_lexer": "ipython3",
   "version": "3.12.5"
  }
 },
 "nbformat": 4,
 "nbformat_minor": 5
}

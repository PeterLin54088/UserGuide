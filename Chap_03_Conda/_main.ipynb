{
 "cells": [
  {
   "cell_type": "markdown",
   "id": "395e7660-3fbb-4f43-8563-cbccbaafbe18",
   "metadata": {},
   "source": [
    "# Python Environment\n",
    "Python environment is not built-in in Linux, but we can install it as needed, and in below section I'll have \"miniconda\" as example to manage python environment"
   ]
  },
  {
   "cell_type": "markdown",
   "id": "630977c3-f0e8-4dd0-80e1-e125424466e6",
   "metadata": {},
   "source": [
    "## Install Miniconda"
   ]
  },
  {
   "cell_type": "markdown",
   "id": "5c8bf5a9-221f-41b9-bf30-0c63da00775f",
   "metadata": {},
   "source": [
    "Just follow guides on [Official Website](https://docs.anaconda.com/miniconda/), but remember make some modifications if you want Miniconda install at other places\n",
    "\n",
    "If you REALLY don't know how to do it yourself, then do these commands one by one\n",
    "```\n",
    "mkdir -p /work/$USER/miniconda3\n",
    "```\n",
    "```\n",
    "wget https://repo.anaconda.com/miniconda/Miniconda3-latest-Linux-x86_64.sh -O /work/$USER/miniconda.sh\n",
    "```\n",
    "```\n",
    "bash /work/$USER/miniconda.sh -b -u -p /work/$USER/miniconda3\n",
    "```\n",
    "![conda_1](conda_1.png)\n",
    "```\n",
    "rm -rf /work/$USER/miniconda.sh\n",
    "```\n",
    "```\n",
    "/work/$USER/miniconda3/bin/conda init bash\n",
    "```\n",
    "```\n",
    "source ~/.bashrc\n",
    "```\n",
    "Then you should notice the (base) appears like this ![conda_2](conda_2.png)"
   ]
  },
  {
   "cell_type": "markdown",
   "id": "36b0e941-79e4-4130-8899-20e7b2dc5915",
   "metadata": {},
   "source": [
    "## Creating python environments"
   ]
  },
  {
   "cell_type": "markdown",
   "id": "7e5cc8b2-14df-4da7-ae35-c2b8bdb51856",
   "metadata": {},
   "source": [
    "You can follow guides from [Official Website](https://conda.io/projects/conda/en/latest/user-guide/tasks/manage-environments.html)\n",
    "\n",
    "Still, if you REALLY don't know how to do it yourself, then do these commands one by one\n",
    "```\n",
    "conda create --no-default-packages -n myenv\n",
    "```\n",
    "```\n",
    "conda activate myenv\n",
    "```\n",
    "```\n",
    "conda env update --file /work/b08209033/CONDA_ENVIRONMENT/_DEFAULT_ENVIRONMENT.yml --prune\n",
    "```\n",
    "![conda_3](conda_3.png)\n",
    "![conda_4](conda_4.png)\n",
    "***fill in myenv as you like\n",
    "***This may takes long time \n",
    "***press y if needed\n",
    "\n",
    "And now you should have created a python environment and can use python! You can try to type in python in terminal, it should work now!"
   ]
  },
  {
   "cell_type": "markdown",
   "id": "dde4e638-dbf0-43d4-baa3-47a23eb49cbf",
   "metadata": {},
   "source": [
    "## Protect your environment (optional)"
   ]
  },
  {
   "cell_type": "markdown",
   "id": "ecb25514-c1c5-44c2-a17c-f96688f93b5d",
   "metadata": {},
   "source": [
    "Assuming you've read the official website, you know that environments can be created or deleted as you want, but, the base environment is an exception\n",
    "\n",
    "The base environment cannot be created or deleted, so it's recommended to protect you base environment, below is some methods to protect it\n",
    "\n",
    "1. Set auto_activate_base to false\n",
    "   ```\n",
    "   conda config --set auto_activate_base false\n",
    "   ```\n",
    "2. Restrict modifier in base \\\n",
    "   Add below codes into your .bashrc (after conda initialization)\n",
    "   ```\n",
    "    # >>> conda base protection <<<\n",
    "    function pip(){\n",
    "      if [ \"${CONDA_PROMPT_MODIFIER-}\" = \"(base) \" ] && [ \"$1\" = \"install\" ]; then\n",
    "        echo \"Base environment is protected by local user.\"\n",
    "      else\n",
    "        command pip \"$@\"\n",
    "      fi\n",
    "    }\n",
    "    \n",
    "    function extended_conda(){\n",
    "      if [ \"${CONDA_PROMPT_MODIFIER-}\" = \"(base) \" ] && [ \"$1\" = \"install\" ]; then\n",
    "        echo \"Base environment is protected by local user.\"\n",
    "      else\n",
    "        conda \"$@\"\n",
    "      fi\n",
    "    }\n",
    "    alias conda=extended_conda\n",
    "    # <<< conda base protection <<<\n",
    "   ```"
   ]
  },
  {
   "cell_type": "markdown",
   "id": "9aa912ab-fdc1-430b-8fcb-3f7599fd2956",
   "metadata": {},
   "source": [
    "## Basic conda command"
   ]
  },
  {
   "cell_type": "markdown",
   "id": "c01e48e2-f068-4f0d-b5ca-f82d88c4d331",
   "metadata": {},
   "source": [
    "- conda create -n myenv\\\n",
    "  create new environment\n",
    "- conda activate myenv\\\n",
    "  activate \"myenv\" environment\n",
    "- conda deactivate \\\n",
    "  deactivate from current environment\n",
    "- conda list \\\n",
    "  list packages in current environment\n",
    "- conda install mypac \\\n",
    "  install \"mypac\" package\n",
    "- conda remove mypac \\\n",
    "  uninstall \"mypac\" package\n",
    "- conda env list \\\n",
    "  list all environment you mount"
   ]
  }
 ],
 "metadata": {
  "kernelspec": {
   "display_name": "__MAIN__",
   "language": "python",
   "name": "__main__"
  },
  "language_info": {
   "codemirror_mode": {
    "name": "ipython",
    "version": 3
   },
   "file_extension": ".py",
   "mimetype": "text/x-python",
   "name": "python",
   "nbconvert_exporter": "python",
   "pygments_lexer": "ipython3",
   "version": "3.12.3"
  }
 },
 "nbformat": 4,
 "nbformat_minor": 5
}

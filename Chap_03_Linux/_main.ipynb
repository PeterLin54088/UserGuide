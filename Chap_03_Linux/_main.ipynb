{
 "cells": [
  {
   "cell_type": "markdown",
   "id": "e7fb0343",
   "metadata": {},
   "source": [
    "# Linux"
   ]
  },
  {
   "cell_type": "markdown",
   "id": "2971ceca",
   "metadata": {},
   "source": [
    "After logging into the remote server, you might have observed that the operating system over remote server is neither Windows nor macOS. While most personal computers use Windows or macOS, many remote servers operate on Unix-based systems.\n",
    "\n",
    "If you’re accustomed to Windows, Linux may seem a bit unfamiliar initially. However, it is a powerful and versatile operating system with many distinctive features."
   ]
  },
  {
   "cell_type": "markdown",
   "id": "1241f214-f378-4189-921c-bcb6c9221198",
   "metadata": {},
   "source": [
    "## What is Linux?"
   ]
  },
  {
   "cell_type": "markdown",
   "id": "5d33d029-7520-41c2-91d2-eb3aac636c48",
   "metadata": {},
   "source": [
    "Linux is a free, open-source operating system derived from Unix, renowned for its stability, security, and flexibility.\n",
    "\n",
    "Unlike Windows or macOS, which rely on graphical user interfaces, Linux primarily uses a command-line interface. This means you perform tasks by **typing commands into a shell**.\n",
    "\n",
    "To help you get started with Linux, we’ll cover the basics of the bash shell, introduce essential commands for beginners, and explain the .bashrc and .bash_profile files used for configuration."
   ]
  },
  {
   "cell_type": "markdown",
   "id": "3e5b77ff",
   "metadata": {},
   "source": [
    "## What is bash?"
   ]
  },
  {
   "cell_type": "markdown",
   "id": "5f6b3938",
   "metadata": {},
   "source": [
    "`bash` is a type of shell—a specific command-line interface that lets users interact with the operating system. \n",
    "\n",
    "If you're having trouble understanding, think of `bash` as **similar to the Python interpreter**: instead of running Python code, bash runs shell commands and scripts (.sh files)."
   ]
  },
  {
   "cell_type": "markdown",
   "id": "40587bfc",
   "metadata": {},
   "source": [
    "## How to Execute Command?"
   ]
  },
  {
   "cell_type": "markdown",
   "id": "8a1676c2-13d9-48de-9376-75bfef853d56",
   "metadata": {},
   "source": [
    "Running Commands Directly\n",
    "\n",
    "1. Open the Terminal\n",
    "2. Type your command\n",
    "3. Press Enter\n",
    "\n",
    "Running Multiple Commands from a Script\n",
    "\n",
    "1. Open a .sh file in a text editor\n",
    "2. Type your commands in the file\n",
    "3. Save the file\n",
    "4. Run the .sh file using bash"
   ]
  },
  {
   "cell_type": "markdown",
   "id": "cdd6a544",
   "metadata": {},
   "source": [
    "## Basic commands"
   ]
  },
  {
   "cell_type": "markdown",
   "id": "35c58645",
   "metadata": {},
   "source": [
    "Feel free to experiment with the following shell commands to understand what they do. Most of these commands are safe to use, except for `rm` and `kill`, which in some cases can be a bit risky—so proceed with caution when trying those."
   ]
  },
  {
   "cell_type": "markdown",
   "id": "6d1bb432",
   "metadata": {},
   "source": [
    "### File and Directory Management"
   ]
  },
  {
   "cell_type": "markdown",
   "id": "a3100937",
   "metadata": {},
   "source": [
    "`ls`: List files and directories in the current directory\n",
    "```\n",
    "ls\n",
    "```\n",
    "\n",
    "`cd`: Change directory\n",
    "```\n",
    "cd /path/to/directory\n",
    "```\n",
    "\n",
    "`pwd`: Print the current working directory\n",
    "```\n",
    "pwd\n",
    "```\n",
    "\n",
    "`mkdir`: Create a new directory\n",
    "```\n",
    "mkdir directory_name\n",
    "```\n",
    "\n",
    "`rm`: Remove files or directories\n",
    "```\n",
    "rm file_name\n",
    "rm -r directory_name\n",
    "```\n",
    "\n",
    "`cp`: Copy files or directories\n",
    "```\n",
    "cp source_file destination_file\n",
    "cp -r source_directory destination_directory\n",
    "```\n",
    "\n",
    "`mv`: Move or rename files or directories\n",
    "```\n",
    "mv old_name new_name\n",
    "mv file_name /path/to/destination/\n",
    "```\n",
    "\n",
    "```{note}\n",
    "Remote server with CLI doesn't have feature like Recycle Bin, if you `rm` any file, it will just completely disappear. BE CAREFUL! \n",
    "```"
   ]
  },
  {
   "cell_type": "markdown",
   "id": "aebe223e",
   "metadata": {},
   "source": [
    "### Viewing and Editing Files"
   ]
  },
  {
   "cell_type": "markdown",
   "id": "c3b2994f",
   "metadata": {},
   "source": [
    "`cat`: Display the contents of a file\n",
    "```\n",
    "cat file_name\n",
    "```\n",
    "\n",
    "`less`: View file contents with scrolling capabilities\n",
    "```\n",
    "less file_name\n",
    "```\n",
    "\n",
    "`nano` or `vi`: Text editors for editing files\n",
    "```\n",
    "nano file_name\n",
    "vi file_name\n",
    "```"
   ]
  },
  {
   "cell_type": "markdown",
   "id": "0bccbc51",
   "metadata": {},
   "source": [
    "### System Information"
   ]
  },
  {
   "cell_type": "markdown",
   "id": "1558e6a2",
   "metadata": {},
   "source": [
    "`du`: Display disk usage of files and directories\n",
    "```\n",
    "du -h file_name\n",
    "```\n",
    "\n",
    "`top`: Display real-time system processes\n",
    "```\n",
    "top\n",
    "```\n",
    "`ps`: Display information about active processes\n",
    "```\n",
    "ps aux\n",
    "```\n",
    "`free`: Display memory usage\n",
    "```\n",
    "free -h\n",
    "```\n",
    "\n",
    "```{note}\n",
    "If you have technical issues such as being unable to save or move files, or if loading a dataset is too slow, the commands listed above might help.\n",
    "```"
   ]
  },
  {
   "cell_type": "markdown",
   "id": "bef9903a",
   "metadata": {},
   "source": [
    "### Networking"
   ]
  },
  {
   "cell_type": "markdown",
   "id": "49d04e64",
   "metadata": {},
   "source": [
    "`netstat`: Display network connections and routing tables\n",
    "```\n",
    "netstat -tulpn | grep ':PORT_NUMBER'\n",
    "```\n",
    "\n",
    "```{note}\n",
    "If you think a port is being used by someone else, check it to confirm.\n",
    "We'll talk about port in later chapter.\n",
    "```"
   ]
  },
  {
   "cell_type": "markdown",
   "id": "1c4b4d45",
   "metadata": {},
   "source": [
    "### Others"
   ]
  },
  {
   "cell_type": "markdown",
   "id": "188ad067",
   "metadata": {},
   "source": [
    "`kill`: Send a signal to terminate a process\n",
    "```\n",
    "kill PROCESS_ID\n",
    "```\n",
    "\n",
    "`killall`: Sends a signal to  terminate all processes with a specified name\n",
    "```\n",
    "killall PROCESS_NAME\n",
    "```\n",
    "\n",
    "`screen`: Start a new terminal session\n",
    "```\n",
    "screen -S mysession\n",
    "screen -r mysession\n",
    "```"
   ]
  },
  {
   "cell_type": "markdown",
   "id": "c8fd208c",
   "metadata": {},
   "source": [
    "```{note}\n",
    "When you disconnect from a remote server, not all processes are terminated. Some may continue running and consume a lot of memory. In such cases, you'll need to manually `kill` these processes.\n",
    "```\n",
    "```{note}\n",
    "When you disconnect from a remote server, the `screen` session will remain active. If you want a process to keep running in the background even after you've disconnected, consider running it within a `screen` session.\n",
    "```"
   ]
  },
  {
   "cell_type": "markdown",
   "id": "2361cc25",
   "metadata": {},
   "source": [
    "## What is .bashrc and .bash_profile?"
   ]
  },
  {
   "cell_type": "markdown",
   "id": "38389226",
   "metadata": {},
   "source": [
    "In Linux, .bashrc and .bash_profile are configuration files for the Bash shell that let you customize and manage your terminal environment.\n",
    "\n",
    "If this sounds complicated, just think of .bashrc and .bash_profile as places where your personalized settings are stored.\n",
    "\n",
    "<!-- The .bashrc file runs whenever you open a new terminal window, setting up configurations for interactive non-login shells.\n",
    "\n",
    "The .bash_profile file is executed during login sessions, whether accessed directly or remotely, handling the setup for login shells.\n",
    "\n",
    "Both files let you configure environment variables, create aliases and functions, and customize your terminal prompt. While .bashrc applies settings for every new terminal session, .bash_profile is generally used to set environment variables and startup programs that need to be initialized only once per login session. -->"
   ]
  },
  {
   "cell_type": "markdown",
   "id": "645d7c48",
   "metadata": {},
   "source": [
    "### Have A Look"
   ]
  },
  {
   "cell_type": "markdown",
   "id": "22f501f8",
   "metadata": {},
   "source": [
    "You can use a text editor to view the contents of your .bashrc file:\n",
    "```\n",
    "nano .bashrc\n",
    "```\n",
    "It should look something like this (it doesn’t need to be exactly the same as in the image):\n",
    "![bashrc_1](bashrc_1.png)\n",
    "\n",
    "This may seem complex, but you don’t need to understand every command—just let them be.\n",
    "```{note}\n",
    "It is generally safe to add new lines after the existing commands.\n",
    "However, unless you fully understand what these commands do, avoid modifying any pre-existing commands in `.bashrc` or `.bash_profile`. \n",
    "```"
   ]
  },
  {
   "cell_type": "markdown",
   "id": "e0ec6418",
   "metadata": {},
   "source": [
    "### Alias"
   ]
  },
  {
   "cell_type": "markdown",
   "id": "dc65ba3c",
   "metadata": {},
   "source": [
    "An alias is a shortcut or a custom command that represents another command or a series of commands. For example:\n",
    "```\n",
    "alias wdir=\"cd /work/$USER/\"\n",
    "```\n",
    "If you add this line to your .bashrc file and then run:\n",
    "```\n",
    "source .bashrc\n",
    "```\n",
    "Next time, you can simply type:\n",
    "```\n",
    "wdir\n",
    "```\n",
    "and it will execute the command `cd /work/$USER/`."
   ]
  }
 ],
 "metadata": {
  "kernelspec": {
   "display_name": "__MAIN__",
   "language": "python",
   "name": "python3"
  },
  "language_info": {
   "codemirror_mode": {
    "name": "ipython",
    "version": 3
   },
   "file_extension": ".py",
   "mimetype": "text/x-python",
   "name": "python",
   "nbconvert_exporter": "python",
   "pygments_lexer": "ipython3",
   "version": "3.12.5"
  }
 },
 "nbformat": 4,
 "nbformat_minor": 5
}

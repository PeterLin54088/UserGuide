{
 "cells": [
  {
   "cell_type": "markdown",
   "id": "be8826ad",
   "metadata": {},
   "source": [
    "# IDEs"
   ]
  },
  {
   "cell_type": "markdown",
   "id": "fd480450",
   "metadata": {},
   "source": [
    "When working with code—whether writing, compiling, debugging, or managing versions—there are many tasks to handle. An Integrated Development Environment (IDE) simplifies these processes by providing a unified platform to manage all aspects of coding efficiently."
   ]
  },
  {
   "cell_type": "markdown",
   "id": "e6329077",
   "metadata": {},
   "source": [
    "## What is IDEs?"
   ]
  },
  {
   "cell_type": "markdown",
   "id": "50d622a6",
   "metadata": {},
   "source": [
    "An Integrated Development Environment (IDE) is a software application that provides comprehensive facilities for software development. It typically includes:\n",
    " - Code Editor\n",
    " - Compiler/Interpreter\n",
    " - Debugger\n",
    " - Build Automation Tools\n",
    " - Version Control Integration\n",
    " - Project Management\n",
    "\n",
    "Examples of popular IDEs include Visual Studio Code, PyCharm, Spyder and Jupyter Notebook."
   ]
  },
  {
   "cell_type": "markdown",
   "id": "53312b58",
   "metadata": {},
   "source": [
    "## How to Use IDEs?"
   ]
  },
  {
   "cell_type": "markdown",
   "id": "eb594925",
   "metadata": {},
   "source": [
    "On Windows, you can use full-featured IDEs with a graphical interface. However, on systems like Linux that operate through a command-line interface and lack a GUI, you can still work effectively with the following solutions:\n",
    "\n",
    " - Visual Studio Code: By combining a text editor with SSH, you can edit files remotely.\n",
    " - JupyterLab: Provides a web-based, IDE-like interface for interactive computing.\n",
    "\n",
    "In the following sections, we'll briefly demonstrate how to use these tools."
   ]
  },
  {
   "cell_type": "markdown",
   "id": "55a997fb-022a-4e2b-9950-677f08329e16",
   "metadata": {},
   "source": [
    "## Jupyter Lab"
   ]
  },
  {
   "cell_type": "markdown",
   "id": "f65f5c02",
   "metadata": {},
   "source": [
    "JupyterLab is an open-source, web-based interactive development environment (IDE) that extends the capabilities of Jupyter Notebooks."
   ]
  },
  {
   "cell_type": "markdown",
   "id": "e613255c-2860-42c3-bcce-922c1d9479ab",
   "metadata": {},
   "source": [
    "### Install Jupyter Lab"
   ]
  },
  {
   "cell_type": "markdown",
   "id": "4d8625b5-7260-464b-a323-5c47314853f1",
   "metadata": {},
   "source": [
    "If you haven't installed JupyterLab and the related extensions in your conda environment, run the following command first:\n",
    "```\n",
    "conda install -c conda-forge jupyter jupyterlab nodejs ipykernel\n",
    "```"
   ]
  },
  {
   "cell_type": "markdown",
   "id": "6bcb1b25",
   "metadata": {},
   "source": [
    "### Run Jupyter Lab"
   ]
  },
  {
   "cell_type": "markdown",
   "id": "50f2c27c",
   "metadata": {},
   "source": [
    "#### Port Forwarding"
   ]
  },
  {
   "cell_type": "markdown",
   "id": "84e1e802",
   "metadata": {},
   "source": [
    "To run JupyterLab properly, you'll need to set up SSH port forwarding. This requires adding specific arguments to your SSH command.\n",
    "\n",
    "**For Command Prompt (cmd.exe) and Terminal Users**\n",
    "\n",
    "Use the following command, replacing SOURCE_PORT and DESTINATION_PORT with your chosen port numbers (recommended range: 1024-49151). Also, be sure to replace USER_NAME@IP_ADDRESS with your actual username and the IP address of the remote server::\n",
    "```\n",
    "ssh -L localhost:SOURCE_PORT:localhost:DESTINATION_PORT USER_NAME@IP_ADDRESS\n",
    "```\n",
    "\n",
    "**For PuTTY Users**\n",
    "\n",
    "1. In the PuTTY configuration window, navigate to SSH -> Tunnels (on the left panel).\n",
    "2. In the Source port field, enter:\n",
    "    ```\n",
    "    localhost:SOURCE_PORT\n",
    "    ```\n",
    "3. In the Destination port field, enter:\n",
    "    ```\n",
    "    localhost:DESTINATION_PORT\n",
    "    ```\n",
    "4. Click Add and remember to save your session settings before connecting.\n",
    "\n",
    "```{note}\n",
    "While the **SOURCE_PORT** and **DESTINATION_PORT** serve different purposes, it's okay to use the same number for both in this case.\n",
    "```"
   ]
  },
  {
   "cell_type": "markdown",
   "id": "5a7be3ea",
   "metadata": {},
   "source": [
    "#### Run"
   ]
  },
  {
   "cell_type": "markdown",
   "id": "f44f5036",
   "metadata": {},
   "source": [
    "After logging into the remote server with port forwarding, start JupyterLab with the following command:\n",
    "```\n",
    "jupyter lab --no-browser --port=SOURCE_PORT\n",
    "```\n",
    "Next, open your web browser and enter localhost:SOURCE_PORT in the address bar. You should then see the JupyterLab interface."
   ]
  },
  {
   "cell_type": "markdown",
   "id": "b128c93c",
   "metadata": {},
   "source": [
    "## Visual Studio Code"
   ]
  },
  {
   "cell_type": "markdown",
   "id": "ce503c94",
   "metadata": {},
   "source": [
    "Visual Studio Code (VSCode) is a free, open-source code editor developed by Microsoft. It's widely used by developers for writing and editing code in various programming languages.\n",
    "\n",
    "Follow these steps to use SSH over VSCode:\n",
    "\n",
    "1. Download [VSCode](https://code.visualstudio.com/download) and install it.\n",
    "2. Open the extension panel, search ssh.\n",
    "3. Install the Remote-SSH extension.\n",
    "4. Your left panel should now have a remote explorer.\n",
    "5. Click New Remote and type in the ssh command just like in cmd.exe.\n",
    "6. Wait for a long while.\n",
    "7. Now your should be able to log into remote server.\n",
    "8. You are now logged into the remote server! Your screen should look like this:\n",
    "\n",
    "TODO ipykernel and jupyter notebook"
   ]
  },
  {
   "cell_type": "markdown",
   "id": "59a00d6f",
   "metadata": {},
   "source": []
  }
 ],
 "metadata": {
  "kernelspec": {
   "display_name": "__MAIN__",
   "language": "python",
   "name": "__main__"
  },
  "language_info": {
   "codemirror_mode": {
    "name": "ipython",
    "version": 3
   },
   "file_extension": ".py",
   "mimetype": "text/x-python",
   "name": "python",
   "nbconvert_exporter": "python",
   "pygments_lexer": "ipython3",
   "version": "3.12.4"
  }
 },
 "nbformat": 4,
 "nbformat_minor": 5
}

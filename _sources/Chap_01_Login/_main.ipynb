{
 "cells": [
  {
   "cell_type": "markdown",
   "id": "512022c2-4133-42da-9ba5-0e14328b4f43",
   "metadata": {},
   "source": [
    "# Server Login"
   ]
  },
  {
   "cell_type": "markdown",
   "id": "70b753a6-1051-4ab8-8728-33848dd09284",
   "metadata": {},
   "source": [
    "## Windows"
   ]
  },
  {
   "cell_type": "markdown",
   "id": "a9121dff-9e61-47f2-8fbb-4e7730e8d149",
   "metadata": {},
   "source": [
    "### PuTTY (recommend)"
   ]
  },
  {
   "cell_type": "markdown",
   "id": "0cee9ae4-28c9-4ae6-ad35-f6236f77abc9",
   "metadata": {},
   "source": [
    "1. Download [PuTTY](https://www.putty.org/)\n",
    "2. Open PuTTY\n",
    "3. Type in Host Name (IP address)\n",
    "4. Type in any name you like in Saved Session (here I use \"Chaos Lab\")\n",
    "5. Now your PuTTY should look like this![PuTTY_1](PuTTY_1.png)\n",
    "6. Click your session (in this case, Chaos Lab) and click Open\n",
    "7. Now your PuTTY should look like this![PuTTY_2](PuTTY_2.png)\n",
    "8. Type in your username and password\n",
    "9. Now you've log in remote server!![PuTTY_3](PuTTY_3.png)\n",
    "```{note}\n",
    "When type in password, your password won't display on terminal for information security\n",
    "```\n",
    "```{note}\n",
    "If you type wrong password over 3 times, you'll get temporarily ip ban, so please type your password carefully.\n",
    "```"
   ]
  },
  {
   "cell_type": "markdown",
   "id": "31d7b5bb-d626-4b44-8596-fa28195dc45c",
   "metadata": {},
   "source": [
    "### CMD"
   ]
  },
  {
   "cell_type": "markdown",
   "id": "309c3232-334e-4056-941d-57153645fcf3",
   "metadata": {},
   "source": [
    "1. Press Win+S, search cmd\n",
    "2. Open command prompt![CMD_1](CMD_1.png)\n",
    "3. Type in below command (remember to replace username and server_ip_address)\n",
    "   ```\n",
    "   ssh username@server_ip_address\n",
    "   ```\n",
    "   ![CMD_2](CMD_2.png)\n",
    "5. Type in your password\n",
    "6. Now you've log in remote server!![CMD_3](CMD_3.png)\n",
    "```{note}\n",
    "When type in password, your password won't display on terminal for information security\n",
    "```\n",
    "```{note}\n",
    "If you type wrong password over 3 times, you'll get temporarily ip ban, so please type your password carefully.\n",
    "```"
   ]
  },
  {
   "cell_type": "markdown",
   "id": "6de2b9bc-18fc-4a75-8aec-be3ad643453d",
   "metadata": {},
   "source": [
    "## MacOS"
   ]
  },
  {
   "cell_type": "markdown",
   "id": "5a3a9726",
   "metadata": {},
   "source": [
    "### Terminal"
   ]
  },
  {
   "cell_type": "markdown",
   "id": "cc292fc9-dc5c-437b-88ef-15943a59076b",
   "metadata": {},
   "source": [
    "1. Press cmd + space, search 終端機（terminal）\n",
    "2. Open 終端機\n",
    "3. Type in below command (remember to replace username and server_ip_address)\n",
    "   ```\n",
    "   ssh username@server_ip_address\n",
    "   ```\n",
    "   ![terminal_1](terminal_1.png)\n",
    "4. Type in your password\n",
    "5. Now you've logged in remote server!![terminal_2](terminal_2.png)\n",
    "\n",
    "```{note}\n",
    "When type in password, your password won't display on terminal for information security\n",
    "```\n",
    "```{note}\n",
    "If you type wrong password over 3 times, you'll get temporarily ip ban, so please type your password carefully.\n",
    "```"
   ]
  }
 ],
 "metadata": {
  "kernelspec": {
   "display_name": "__MAIN__",
   "language": "python",
   "name": "__main__"
  },
  "language_info": {
   "codemirror_mode": {
    "name": "ipython",
    "version": 3
   },
   "file_extension": ".py",
   "mimetype": "text/x-python",
   "name": "python",
   "nbconvert_exporter": "python",
   "pygments_lexer": "ipython3",
   "version": "3.12.3"
  }
 },
 "nbformat": 4,
 "nbformat_minor": 5
}

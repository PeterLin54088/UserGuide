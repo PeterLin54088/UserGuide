{
 "cells": [
  {
   "cell_type": "markdown",
   "id": "55a997fb-022a-4e2b-9950-677f08329e16",
   "metadata": {},
   "source": [
    "# Jupyter Notebook/Lab"
   ]
  },
  {
   "cell_type": "markdown",
   "id": "e613255c-2860-42c3-bcce-922c1d9479ab",
   "metadata": {},
   "source": [
    "## Jupyter Lab"
   ]
  },
  {
   "cell_type": "code",
   "execution_count": null,
   "id": "136a372f-eac9-4287-b948-324737b44caa",
   "metadata": {},
   "outputs": [],
   "source": []
  }
 ],
 "metadata": {
  "kernelspec": {
   "display_name": "__MAIN__",
   "language": "python",
   "name": "__main__"
  },
  "language_info": {
   "codemirror_mode": {
    "name": "ipython",
    "version": 3
   },
   "file_extension": ".py",
   "mimetype": "text/x-python",
   "name": "python",
   "nbconvert_exporter": "python",
   "pygments_lexer": "ipython3",
   "version": "3.12.3"
  }
 },
 "nbformat": 4,
 "nbformat_minor": 5
}

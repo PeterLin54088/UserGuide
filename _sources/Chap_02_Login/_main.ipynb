{
 "cells": [
  {
   "cell_type": "markdown",
   "id": "512022c2-4133-42da-9ba5-0e14328b4f43",
   "metadata": {},
   "source": [
    "# Access the Remote Server"
   ]
  },
  {
   "cell_type": "markdown",
   "id": "94da0f32",
   "metadata": {},
   "source": [
    "Once you have your account, password, and the remote server's IP address, you can access the server and log in via SSH."
   ]
  },
  {
   "cell_type": "markdown",
   "id": "77686a74",
   "metadata": {},
   "source": [
    "## What is SSH?"
   ]
  },
  {
   "cell_type": "markdown",
   "id": "34b2842f",
   "metadata": {},
   "source": [
    "SSH, or Secure Shell, is a protocol that establishes a secure channel for communication between a client and a server.\n",
    "\n",
    "If this sounds complex, just remember: SSH is a tool for creating a secure connection."
   ]
  },
  {
   "cell_type": "markdown",
   "id": "9be19006",
   "metadata": {},
   "source": [
    "## How to use SSH"
   ]
  },
  {
   "cell_type": "markdown",
   "id": "23736bc5",
   "metadata": {},
   "source": [
    "Typically, your operating system will include an SSH client for command-line use, or you can opt for a graphical SSH client based on your preference.\n",
    "\n",
    "In the following sections, I'll use Command Prompt and PuTTY for Windows, and Terminal for macOS as examples."
   ]
  },
  {
   "cell_type": "markdown",
   "id": "a9121dff-9e61-47f2-8fbb-4e7730e8d149",
   "metadata": {},
   "source": [
    "### PuTTY"
   ]
  },
  {
   "cell_type": "markdown",
   "id": "0cee9ae4-28c9-4ae6-ad35-f6236f77abc9",
   "metadata": {},
   "source": [
    "PuTTY is a popular SSH client for Windows that allows you to connect to a remote server using the SSH protocol.\n",
    "\n",
    "Follow these steps to log in to the remote server:\n",
    "\n",
    "1. Download [PuTTY](https://www.putty.org/) and open it.\n",
    "2. Enter the Host Name (IP address) of the remote server.\n",
    "3. Enter **any name** you like in the \"Saved Sessions\" field.\n",
    "4. Your PuTTY window should now look like this: ![PuTTY_1](PuTTY_1.png)\n",
    "5. Select your saved session and click **Open**.\n",
    "6. Your PuTTY window should now look like this: ![PuTTY_2](PuTTY_2.png)\n",
    "7. Enter your username and password when prompted.\n",
    "8. You are now logged into the remote server! Your screen should look like this: ![PuTTY_3](PuTTY_3.png)"
   ]
  },
  {
   "cell_type": "markdown",
   "id": "31d7b5bb-d626-4b44-8596-fa28195dc45c",
   "metadata": {},
   "source": [
    "### CMD"
   ]
  },
  {
   "cell_type": "markdown",
   "id": "309c3232-334e-4056-941d-57153645fcf3",
   "metadata": {},
   "source": [
    "cmd.exe, or Command Prompt, is the command-line interpreter for Windows. It allows users to execute commands, run scripts, and manage files and directories using text-based commands.\n",
    "\n",
    "Follow these steps to log in to the remote server:\n",
    "\n",
    "1. Press `Win+S` and search for `cmd`.\n",
    "2. Open Command Prompt. ![CMD_1](CMD_1.png)\n",
    "3. Type the following command, **remember to replace USERNAME and IP_ADDRESS**:\n",
    "   ```\n",
    "   ssh USERNAME@IP_ADDRESS\n",
    "   ```\n",
    "   ![CMD_2](CMD_2.png)\n",
    "4. Enter your password when prompted.\n",
    "5. You are now logged into the remote server! Your screen should look like this: ![CMD_3](CMD_3.png)"
   ]
  },
  {
   "cell_type": "markdown",
   "id": "e5c66686",
   "metadata": {},
   "source": [
    "### Terminal"
   ]
  },
  {
   "cell_type": "markdown",
   "id": "6de2b9bc-18fc-4a75-8aec-be3ad643453d",
   "metadata": {},
   "source": [
    "(Many thanks to 張淳皓 for helping me complete this section!)\n",
    "\n",
    "Roughly speaking, Terminal on macOS is similar to cmd.exe on Windows.\n",
    "\n",
    "Follow these steps to log in to the remote server:\n",
    "\n",
    "1. Press `Cmd + Space` and search for `Terminal`.\n",
    "2. Open Terminal.\n",
    "3. Type the following command, **remember to replace USERNAME and IP_ADDRESS**:\n",
    "   ```\n",
    "   ssh USERNAME@IP_ADDRESS\n",
    "   ```\n",
    "   ![terminal_1](terminal_1.png)\n",
    "4. Enter your password when prompted.\n",
    "5. You are now logged into the remote server! Your screen should look like this: ![terminal_2](terminal_2.png)"
   ]
  }
 ],
 "metadata": {
  "kernelspec": {
   "display_name": "__MAIN__",
   "language": "python",
   "name": "__main__"
  },
  "language_info": {
   "codemirror_mode": {
    "name": "ipython",
    "version": 3
   },
   "file_extension": ".py",
   "mimetype": "text/x-python",
   "name": "python",
   "nbconvert_exporter": "python",
   "pygments_lexer": "ipython3",
   "version": "3.12.4"
  }
 },
 "nbformat": 4,
 "nbformat_minor": 5
}

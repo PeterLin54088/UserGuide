{
 "cells": [
  {
   "cell_type": "markdown",
   "id": "395e7660-3fbb-4f43-8563-cbccbaafbe18",
   "metadata": {},
   "source": [
    "# Python Environment"
   ]
  },
  {
   "cell_type": "code",
   "execution_count": null,
   "id": "05d86827-9390-47e5-9ae1-466d06304641",
   "metadata": {},
   "outputs": [],
   "source": []
  },
  {
   "cell_type": "code",
   "execution_count": null,
   "id": "55a999d9-64c6-462c-a222-ec86c3f59c84",
   "metadata": {},
   "outputs": [],
   "source": [
    "##"
   ]
  }
 ],
 "metadata": {
  "kernelspec": {
   "display_name": "__MAIN__",
   "language": "python",
   "name": "__main__"
  },
  "language_info": {
   "codemirror_mode": {
    "name": "ipython",
    "version": 3
   },
   "file_extension": ".py",
   "mimetype": "text/x-python",
   "name": "python",
   "nbconvert_exporter": "python",
   "pygments_lexer": "ipython3",
   "version": "3.12.3"
  }
 },
 "nbformat": 4,
 "nbformat_minor": 5
}

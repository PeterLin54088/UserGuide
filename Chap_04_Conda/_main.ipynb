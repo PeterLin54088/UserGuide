{
 "cells": [
  {
   "cell_type": "markdown",
   "id": "395e7660-3fbb-4f43-8563-cbccbaafbe18",
   "metadata": {},
   "source": [
    "# Miniconda"
   ]
  },
  {
   "cell_type": "markdown",
   "id": "f5c017b3",
   "metadata": {},
   "source": [
    "Linux doesn't come with a built-in Python environment by default, so we need to install Python manually. To do this, we'll need a tool that can install Python, manage packages, and handle environments. While there are several options available, this guide will focus on using Miniconda to install Python and manage packages and environments.\n",
    "\n",
    "If you're unfamiliar with these steps or find them cumbersome, you can use a pre-existing Python environment set up by other users, although this is not recommended."
   ]
  },
  {
   "cell_type": "markdown",
   "id": "e5182411",
   "metadata": {},
   "source": [
    "## What is Miniconda"
   ]
  },
  {
   "cell_type": "markdown",
   "id": "9bf5e3da",
   "metadata": {},
   "source": [
    "Miniconda is a minimal installer for Conda, a widely used package and environment management tool in the Python programming ecosystem.\n",
    "\n",
    "Many readers may be familiar with Anaconda; you can think of Miniconda as a lightweight version of Anaconda."
   ]
  },
  {
   "cell_type": "markdown",
   "id": "630977c3-f0e8-4dd0-80e1-e125424466e6",
   "metadata": {},
   "source": [
    "## Install Miniconda"
   ]
  },
  {
   "cell_type": "markdown",
   "id": "5c8bf5a9-221f-41b9-bf30-0c63da00775f",
   "metadata": {},
   "source": [
    "Just follow the instructions on the [Official Website](https://docs.anaconda.com/miniconda/) (specifically the **Quick command line install**), but make sure to modify the steps if you want to install Miniconda in a different location.\n",
    "\n",
    "While it's recommended to try it on your own, if you're uncertain about how to do it, you can follow these commands one by one:\n",
    "```\n",
    "mkdir -p /work/$USER/miniconda3\n",
    "```\n",
    "```\n",
    "wget https://repo.anaconda.com/miniconda/Miniconda3-latest-Linux-x86_64.sh -O /work/$USER/miniconda.sh\n",
    "```\n",
    "```\n",
    "bash /work/$USER/miniconda.sh -b -u -p /work/$USER/miniconda3\n",
    "```\n",
    "![conda_1](conda_1.png)\n",
    "```\n",
    "rm -rf /work/$USER/miniconda.sh\n",
    "```\n",
    "```\n",
    "/work/$USER/miniconda3/bin/conda init bash\n",
    "```\n",
    "```\n",
    "source ~/.bashrc\n",
    "```\n",
    "Then you should notice the (base) appears like this ![conda_2](conda_2.png)"
   ]
  },
  {
   "cell_type": "markdown",
   "id": "36b0e941-79e4-4130-8899-20e7b2dc5915",
   "metadata": {},
   "source": [
    "## Create Python Environments"
   ]
  },
  {
   "cell_type": "markdown",
   "id": "cfc5ebe0",
   "metadata": {},
   "source": [
    "### Base Environment"
   ]
  },
  {
   "cell_type": "markdown",
   "id": "7123c6e5",
   "metadata": {},
   "source": [
    "By default, Miniconda comes with a base environment. However, it’s best to avoid using the base environment for your projects. Instead, create a new environment for each project."
   ]
  },
  {
   "cell_type": "markdown",
   "id": "1359b25e",
   "metadata": {},
   "source": [
    "### Customize Environments"
   ]
  },
  {
   "cell_type": "markdown",
   "id": "7e5cc8b2-14df-4da7-ae35-c2b8bdb51856",
   "metadata": {},
   "source": [
    "Follow the instructions on the [Official Website](https://conda.io/projects/conda/en/latest/user-guide/tasks/manage-environments.html) to learn how to set up new environments.\n",
    "\n",
    "It's recommended to try creating a new environment on your own, but if you’re unsure how to proceed, you can follow these commands step by step. Be sure to replace **myenv** with your desired environment name:\n",
    "```\n",
    "conda create -n myenv\n",
    "```\n",
    "```\n",
    "conda activate myenv\n",
    "```\n",
    "```\n",
    "/work/$USER/miniconda3/bin/conda init bash\n",
    "```\n",
    "\n",
    "If you need any packages, such as h5py or netCDF, in your current environment, install them using the following command. Remember to replace package_name with the actual package name.\n",
    "\n",
    "```\n",
    "conda install -c conda-forge package_name\n",
    "```\n",
    "\n",
    "You should now have a new Python environment set up and ready for use!\n",
    "\n",
    "```{note}\n",
    "Tired of installing packages one by one? Try using a .yml file to manage dependencies, for example\n",
    "conda env update --file environment.yml\n",
    "```\n"
   ]
  }
 ],
 "metadata": {
  "kernelspec": {
   "display_name": "__MAIN__",
   "language": "python",
   "name": "__main__"
  },
  "language_info": {
   "codemirror_mode": {
    "name": "ipython",
    "version": 3
   },
   "file_extension": ".py",
   "mimetype": "text/x-python",
   "name": "python",
   "nbconvert_exporter": "python",
   "pygments_lexer": "ipython3",
   "version": "3.12.4"
  }
 },
 "nbformat": 4,
 "nbformat_minor": 5
}
